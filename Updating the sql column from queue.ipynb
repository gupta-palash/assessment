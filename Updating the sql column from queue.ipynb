{
 "cells": [
  {
   "cell_type": "code",
   "execution_count": null,
   "id": "cc5e5086",
   "metadata": {},
   "outputs": [],
   "source": [
    "local = \"questions(online).sql\"    #update the file name here\n",
    "temp1 = \"temp/questions(online)\"   #update the file path here\n",
    "\n",
    "\n",
    "newFileName =\"questions(insert).sql\"\n",
    "newFileName2 =\"questions(update).sql\"\n",
    "\n",
    "open(newFileName, \"a\") as insert\n",
    "open(newFileName2, \"a\") as update\n",
    "\n",
    "import os, shutil, glob\n",
    "import time\n",
    "starttime = time.time()\n",
    "inpath = 'C:\\\\Users\\\\Palash gupta\\\\Downloads\\\\Queue' \n",
    "\n",
    "os.chdir(inpath)\n",
    "while True:\n",
    "    for file in glob.glob(\"*.txt\"):\n",
    "        with open(local, \"r\") as localfile:\n",
    "            for line in localfile:\n",
    "                for line2 in localfile:\n",
    "            if line == line2:\n",
    "                update.write(line)\n",
    "            else:\n",
    "                insert.write(line)\n",
    "        time.sleep(12)\n",
    "                \n",
    "\n",
    "                \n",
    "                \n",
    "insert.close()\n",
    "update.close()"
   ]
  }
 ],
 "metadata": {
  "kernelspec": {
   "display_name": "Python 3",
   "language": "python",
   "name": "python3"
  },
  "language_info": {
   "codemirror_mode": {
    "name": "ipython",
    "version": 3
   },
   "file_extension": ".py",
   "mimetype": "text/x-python",
   "name": "python",
   "nbconvert_exporter": "python",
   "pygments_lexer": "ipython3",
   "version": "3.8.8"
  }
 },
 "nbformat": 4,
 "nbformat_minor": 5
}
